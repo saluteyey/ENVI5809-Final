{
    "metadata": {
        "kernelspec": {
            "name": "ir",
            "display_name": "R",
            "language": "R"
        }
    },
    "nbformat": 4,
    "nbformat_minor": 2,
    "cells": [
        {
            "attachments": {},
            "cell_type": "markdown",
            "metadata": {},
            "source": [
                "# "
            ]
        },
        {
            "attachments": {},
            "cell_type": "markdown",
            "metadata": {},
            "source": [
                "# Package imports"
            ]
        },
        {
            "cell_type": "code",
            "execution_count": 2,
            "metadata": {},
            "outputs": [],
            "source": [
                "rm(list=ls())"
            ]
        },
        {
            "cell_type": "code",
            "execution_count": 1,
            "metadata": {},
            "outputs": [],
            "source": [
                "install.packages(\"ncdf4\")\n",
                "library(ncdf4)\n",
                "\n",
                "library(raster) # package for raster manipulation\n",
                "library(ggplot2) # package for plotting\n",
                "library(reshape2)\n",
                "\n",
                "install.packages(\"RColorBrewer\")\n",
                "library(RColorBrewer)\n",
                "\n",
                "library(tidyverse)\n",
                "library(rnaturalearth)\n",
                "\n",
                "install.packages(\"magick\") # package for gif\n",
                "library(magick)"
            ]
        },
        {
            "attachments": {},
            "cell_type": "markdown",
            "metadata": {},
            "source": [
                "# Download Data\n",
                "The future SST\n",
                " data comes from Climate Data Store: https://cds.climate.copernicus.eu/datasets/projections-cmip6?tab=overview\n",
                ""
            ]
        },
        {
            "attachments": {},
            "cell_type": "markdown",
            "metadata": {},
            "source": [
                "# Load the data"
            ]
        },
        {
            "cell_type": "code",
            "execution_count": 4,
            "metadata": {},
            "outputs": [],
            "source": [
                "fu \u003c- nc_open(\"future.nc\")  # read data\n",
                "# Save the print(nc) to a text file\n",
                "{\n",
                "  sink('fu.txt')\n",
                "  print(fu)\n",
                "  sink()\n",
                "}"
            ]
        },
        {
            "cell_type": "code",
            "execution_count": 0,
            "metadata": {},
            "outputs": [],
            "source": [
                "lon \u003c- ncvar_get(fu, \"longitude\")\n",
                "lat \u003c- ncvar_get(fu, \"latitude\", verbose = F)\n",
                "time \u003c- ncvar_get(fu, \"time_bnds\")\n",
                ""
            ]
        },
        {
            "cell_type": "code",
            "execution_count": 0,
            "metadata": {},
            "outputs": [],
            "source": [
                "head(lon) # look at the first few entries in the longitude vector"
            ]
        },
        {
            "cell_type": "code",
            "execution_count": 0,
            "metadata": {},
            "outputs": [],
            "source": [
                "tos.array \u003c- ncvar_get(fu, \"tos\") # store the data in a 3-dimensional array\n",
                "dim(tos.array) \n",
                "\n",
                "fillvalue \u003c- ncatt_get(fu, \"tos\", \"_FillValue\") # view fill value\n",
                "print(fillvalue)\n",
                "\n",
                "tos.array[tos.array == fillvalue$value] \u003c- NA # use NA to fill"
            ]
        },
        {
            "attachments": {},
            "cell_type": "markdown",
            "metadata": {},
            "source": [
                "# Data analysis\n",
                "## Plot the Monthly average SST"
            ]
        },
        {
            "cell_type": "code",
            "execution_count": 0,
            "metadata": {},
            "outputs": [],
            "source": [
                "#Loop\n",
                "time_points \u003c- 1:84\n",
                "\n",
                "# every time points\n",
                "for (time_index in time_points) {\n",
                "  # Select SST data for a specific point in time\n",
                "  tos_subset \u003c- tos.array[, , time_index]\n",
                "  \n",
                "  # Create raster objects\n",
                "  r_subset \u003c- raster(t(tos_subset), xmn=min(lon), xmx=max(lon), ymn=min(lat), ymx=max(lat), \n",
                "                     crs=CRS(\"+proj=longlat +ellps=WGS84 +datum=WGS84 +no_defs+towgs84=0,0,0\"))\n",
                "  \n",
                "  # Flip the grid so that it displays correctly\n",
                "  r_subset \u003c- flip(r_subset, direction='y')\n",
                "  \n",
                "  # Convert raster to data frame\n",
                "  r_subset_df \u003c- as.data.frame(r_subset, xy = TRUE)\n",
                "  \n",
                "  # Plot\n",
                "  p \u003c- ggplot(r_subset_df, aes(x = x, y = y, fill = layer)) +  \n",
                "    # Plot raster\n",
                "    geom_raster() +\n",
                "    # Specify fill color\n",
                "    scale_fill_gradientn(colours = brewer.pal(8, \"Reds\"), name = \"Temperature\") +\n",
                "    # Title\n",
                "    labs(title = paste(\"Sea Surface Temperature - Time Point\", time_index), \n",
                "         x = \"Longitude\", y = \"Latitude\") +\n",
                "    # Simple theme\n",
                "    theme_minimal() +\n",
                "    # Add background\n",
                "    theme(\n",
                "      panel.background = element_rect(fill = \"white\"),\n",
                "      plot.background = element_rect(fill = \"white\"),\n",
                "      axis.text.x = element_text(angle = 45, hjust = 1)) +\n",
                "    # Add boundaries\n",
                "    geom_contour(data = r_subset_df, aes(z = layer), breaks = c(0, 25), color = \"blue\", size = 1) +\n",
                "    geom_text(data = r_subset_df[r_subset_df$layer %in% c(0, 25), ],\n",
                "              aes(label = round(layer, 1)), color = \"black\", vjust = -0.5)\n",
                "    \n",
                "  # Save plots\n",
                "  ggsave(paste0(\"sea_surface_temperature_\", time_index, \".png\"), \n",
                "         plot = p, width = 6, height = 8)\n",
                "}\n",
                ""
            ]
        },
        {
            "attachments": {},
            "cell_type": "markdown",
            "metadata": {},
            "source": [
                "## Make gif to show the change"
            ]
        },
        {
            "cell_type": "code",
            "execution_count": 0,
            "metadata": {},
            "outputs": [],
            "source": [
                "#gif-Feb\n",
                "image_files_2 \u003c- paste0(\"sea_surface_temperature_\", seq(2,84,by=12), \".png\")  \n",
                "# Read plots\n",
                "img_list_2 \u003c- image_read(image_files_2)\n",
                "# Create GIF\n",
                "gif_2 \u003c- image_animate(img_list_2, fps = 1)  \n",
                "# Save GIF\n",
                "image_write(gif_2, \"sea_surface_temperature_Feb.gif\")\n",
                "\n",
                "#gif-Jul\n",
                "image_files_7 \u003c- paste0(\"sea_surface_temperature_\", seq(7,84,by=12), \".png\")  \n",
                "\n",
                "img_list_7 \u003c- image_read(image_files_7)\n",
                "\n",
                "gif_7 \u003c- image_animate(img_list_7, fps = 1)  \n",
                "\n",
                "image_write(gif_7, \"sea_surface_temperature_Jul.gif\")"
            ]
        },
        {
            "attachments": {},
            "cell_type": "markdown",
            "metadata": {},
            "source": [
                "## Plot the SST change for each selected point\n",
                "Point 1 is located at the northern end of the humpback whale's range, Point 2 is located in the area where it begins to migrate south, and Point 3 is located in the humpback whale's range in the Antarctic region."
            ]
        },
        {
            "cell_type": "code",
            "execution_count": 0,
            "metadata": {},
            "outputs": [],
            "source": [
                "head(lon) # look at the first few entries in the longitude vector\n",
                "head(lat) # look at the first few entries in the latitude vector"
            ]
        },
        {
            "cell_type": "code",
            "execution_count": 0,
            "metadata": {},
            "outputs": [],
            "source": [
                "# point data\n",
                "#(145.5，-15.5)\n",
                "i \u003c- 12\n",
                "j \u003c- 60\n",
                "\n",
                "tos.n \u003c- tos.array[i, j, ] \n",
                "print(tos.n)\n",
                "tos.nf \u003c- data.frame(\n",
                "  SST = tos.n,\n",
                "  year = factor(rep(seq(2030, 2090, by = 10), each = 12)))\n",
                "\n",
                "ggplot(tos.nf, aes(x = rep(1:12, times = 7), y = SST, group = year, color = factor(year))) +\n",
                "  geom_line()+\n",
                "  geom_point(size = 2) +\n",
                "  labs(title = \"Point 1\", x=\"month\",y=\"SST\",color=\"Year\") +\n",
                "  scale_x_continuous(breaks = 1:12) +\n",
                "  theme_minimal()\n",
                "\n",
                "#(150.5，-35.5)\n",
                "i \u003c- 17\n",
                "j \u003c- 38\n",
                "\n",
                "tos.s \u003c- tos.array[i, j, ] \n",
                "print(tos.s)\n",
                "tos.sf \u003c- data.frame(\n",
                "  SST = tos.s,\n",
                "  year = factor(rep(seq(2030, 2090, by = 10), each = 12)))\n",
                "\n",
                "ggplot(tos.sf, aes(x = rep(1:12, times = 7), y = SST, group = year, color = factor(year))) +\n",
                "  geom_line()+\n",
                "  geom_point(size = 2) +\n",
                "  labs(title = \"Point 2\", x=\"month\",y=\"SST\",color=\"Year\") +\n",
                "  scale_x_continuous(breaks = 1:12) +\n",
                "  theme_minimal()\n",
                "\n",
                "#(169.5，-65.5)\n",
                "i \u003c- 36\n",
                "j \u003c- 1\n",
                "\n",
                "tos.sp \u003c- tos.array[i, j, ] \n",
                "print(tos.sp)\n",
                "tos.spf \u003c- data.frame(\n",
                "  SST = tos.sp,\n",
                "  year = factor(rep(seq(2030, 2090, by = 10), each = 12)))\n",
                "\n",
                "ggplot(tos.spf, aes(x = rep(1:12, times = 7), y = SST, group = year, color = factor(year))) +\n",
                "  geom_line()+\n",
                "  geom_point(size = 2) +\n",
                "  labs(title = \"Point 3\", x=\"month\",y=\"SST\",color=\"Year\") +\n",
                "  scale_x_continuous(breaks = 1:12) +\n",
                "  theme_minimal()\n",
                ""
            ]
        },
        {
            "attachments": {},
            "cell_type": "markdown",
            "metadata": {},
            "source": [
                "## Plot the  points' location\n",
                ""
            ]
        },
        {
            "cell_type": "code",
            "execution_count": 0,
            "metadata": {},
            "outputs": [],
            "source": [
                "#points location\n",
                "points \u003c- data.frame(\n",
                "  LON = c(145.5,150.5,169),\n",
                "  LAT = c(-15.5,-35.5,-67),\n",
                "  Label = c(\"Point 1\",\"Point 2\", \"Point 3\")\n",
                "  )\n",
                "\n",
                "world \u003c- ne_countries(scale = \"medium\", returnclass = \"sf\")\n",
                "ggplot() + \n",
                "  geom_sf(data = world, col=\"grey70\", fill = \"grey70\")+\n",
                "  geom_point(data = points, aes(x = LON, y = LAT), size = 2, shape = 21, fill = \"blue\", alpha=0.6) +\n",
                "  geom_text(data = points, aes(x = LON, y = LAT, label = Label), vjust = -1, color = \"black\") +\n",
                "  scale_x_continuous(expand = c(0, 0), limits = c(130, 175)) +\n",
                "  scale_y_continuous(expand = c(0, 0), limits = c(-70, -10)) +\n",
                "  theme_classic() + \n",
                "  theme(axis.text = element_text(colour = \"black\"))\n",
                ""
            ]
        }
    ]
}
